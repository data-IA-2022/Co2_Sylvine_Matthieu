{
 "cells": [
  {
   "cell_type": "code",
   "execution_count": 1,
   "metadata": {},
   "outputs": [
    {
     "name": "stdout",
     "output_type": "stream",
     "text": [
      "10 / 2 = 5.0\n"
     ]
    }
   ],
   "source": [
    "try: \n",
    "  numerateur = int(input(\"indique le numerateur : \"))\n",
    "  denominateur = int(input(\"indique le denominateur : \"))\n",
    "  division = numerateur / denominateur\n",
    "  print(f\"{numerateur} / {denominateur} = {division}\")  \n",
    "except ZeroDivisionError:\n",
    "  print(\"pas de division par zero !\")\n",
    "except ValueError:\n",
    "  print(\"la valeur indiquée n'est pas correcte !\")"
   ]
  },
  {
   "cell_type": "code",
   "execution_count": 29,
   "metadata": {},
   "outputs": [],
   "source": [
    "def funcDiv(a = None, b = None) :\n",
    "  try: \n",
    "    if not a:\n",
    "      numerateur = None\n",
    "      numerateur = int(input(\"indique le numerateur : \"))\n",
    "    else:\n",
    "      numerateur = a\n",
    "    \n",
    "    if b not b:\n",
    "      denominateur = int(input(\"indique le denominateur : \"))\n",
    "    else:\n",
    "      denominateur = b\n",
    "    division = numerateur / denominateur\n",
    "    print(f\"{numerateur} / {denominateur} = {division}\")  \n",
    "\n",
    "  except ZeroDivisionError:\n",
    "    print(\"pas de division par zero !\")\n",
    "    funcDiv(a = numerateur)\n",
    "  except ValueError:\n",
    "    print(\"la valeur indiquée n'est pas correcte !\")\n",
    "    funcDiv(a = numerateur)"
   ]
  },
  {
   "cell_type": "code",
   "execution_count": 31,
   "metadata": {},
   "outputs": [
    {
     "name": "stdout",
     "output_type": "stream",
     "text": [
      "la valeur indiquée n'est pas correcte !\n",
      "la valeur indiquée n'est pas correcte !\n",
      "la valeur indiquée n'est pas correcte !\n",
      "la valeur indiquée n'est pas correcte !\n",
      "20 / 2 = 10.0\n"
     ]
    }
   ],
   "source": [
    "funcDiv()"
   ]
  }
 ],
 "metadata": {
  "kernelspec": {
   "display_name": "base",
   "language": "python",
   "name": "python3"
  },
  "language_info": {
   "codemirror_mode": {
    "name": "ipython",
    "version": 3
   },
   "file_extension": ".py",
   "mimetype": "text/x-python",
   "name": "python",
   "nbconvert_exporter": "python",
   "pygments_lexer": "ipython3",
   "version": "3.9.13"
  },
  "orig_nbformat": 4
 },
 "nbformat": 4,
 "nbformat_minor": 2
}
